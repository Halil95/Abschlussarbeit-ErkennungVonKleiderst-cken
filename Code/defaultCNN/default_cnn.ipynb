{
 "cells": [
  {
   "cell_type": "markdown",
   "metadata": {},
   "source": [
    "# 0.1 Bibliotheken installieren und importieren"
   ]
  },
  {
   "cell_type": "code",
   "execution_count": 1,
   "metadata": {},
   "outputs": [],
   "source": [
    "# Bibliothek installieren (auskommentieren)\n",
    "#pip install pandas\n",
    "# falls syntax error entsteht : nicht beachten!"
   ]
  },
  {
   "cell_type": "code",
   "execution_count": 2,
   "metadata": {},
   "outputs": [],
   "source": [
    "# Bibliothek importieren\n",
    "import pandas as pd\n",
    "# falls modul nicht geladen werden konnte, müssen \n",
    "# Sie prüfen ob die Bibliothek richtig installiert wurde"
   ]
  },
  {
   "cell_type": "code",
   "execution_count": 3,
   "metadata": {},
   "outputs": [],
   "source": [
    "# Bibliothek installieren (auskommentieren)\n",
    "#pip install numpy\n",
    "# falls syntax error entsteht : nicht beachten!"
   ]
  },
  {
   "cell_type": "code",
   "execution_count": 4,
   "metadata": {},
   "outputs": [],
   "source": [
    "# Bibliothek importieren\n",
    "import numpy as np\n",
    "# falls modul nicht geladen werden konnte, müssen \n",
    "# Sie prüfen ob die Bibliothek richtig installiert wurde"
   ]
  },
  {
   "cell_type": "code",
   "execution_count": 5,
   "metadata": {},
   "outputs": [],
   "source": [
    "# Bibliothek installieren (auskommentieren)\n",
    "#pip install matplotlib\n",
    "# falls syntax error entsteht : nicht beachten!"
   ]
  },
  {
   "cell_type": "code",
   "execution_count": 6,
   "metadata": {},
   "outputs": [],
   "source": [
    "# Bibliothek importieren\n",
    "import matplotlib.pyplot as plt\n",
    "# falls modul nicht geladen werden konnte, müssen \n",
    "# Sie prüfen ob die Bibliothek richtig installiert wurde"
   ]
  },
  {
   "cell_type": "code",
   "execution_count": 7,
   "metadata": {},
   "outputs": [],
   "source": [
    "# Bibliothek installieren (auskommentieren)\n",
    "#pip install tensorflow\n",
    "# falls syntax error entsteht : nicht beachten!"
   ]
  },
  {
   "cell_type": "code",
   "execution_count": 8,
   "metadata": {},
   "outputs": [],
   "source": [
    "# Bibliothek importieren\n",
    "import tensorflow as tf\n",
    "# Modelle aus tensorflow importieren\n",
    "from tensorflow.keras.models import Sequential\n",
    "from tensorflow.keras.layers import Flatten, Dense, Conv2D, MaxPooling2D, Dropout, Layer, DepthwiseConv2D\n",
    "from tensorflow.keras.utils import to_categorical, plot_model\n",
    "# falls modul nicht geladen werden konnte, müssen \n",
    "# Sie prüfen ob die Bibliothek richtig installiert wurde"
   ]
  },
  {
   "cell_type": "code",
   "execution_count": 9,
   "metadata": {},
   "outputs": [],
   "source": [
    "# Bibliothek installieren (auskommentieren)\n",
    "#pip install sklearn\n",
    "# falls syntax error entsteht : nicht beachten!"
   ]
  },
  {
   "cell_type": "code",
   "execution_count": 10,
   "metadata": {},
   "outputs": [],
   "source": [
    "# Modelle aus Sklearn importieren\n",
    "from sklearn.model_selection import train_test_split\n",
    "from sklearn.metrics import classification_report\n",
    "# falls modul nicht geladen werden konnte, müssen \n",
    "# Sie prüfen ob die Bibliothek richtig installiert wurde"
   ]
  },
  {
   "cell_type": "code",
   "execution_count": 11,
   "metadata": {},
   "outputs": [],
   "source": [
    "# Bibliothek installieren (auskommentieren)\n",
    "#pip install tensorflow-datasets\n",
    "# falls syntax error entsteht : nicht beachten!"
   ]
  },
  {
   "cell_type": "code",
   "execution_count": 12,
   "metadata": {},
   "outputs": [],
   "source": [
    "# Bibliothek importieren\n",
    "import tensorflow_datasets as tfds\n",
    "# falls modul nicht geladen werden konnte, müssen \n",
    "# Sie prüfen ob die Bibliothek richtig installiert wurde"
   ]
  },
  {
   "cell_type": "markdown",
   "metadata": {},
   "source": [
    "# 1. Business Understanding"
   ]
  },
  {
   "cell_type": "markdown",
   "metadata": {},
   "source": [
    "Online-Versandhändler haben oft eine hohe Rückläuferquote. Diese Rückläuferquote kommt zum Beispiel durch den Kauf von Artikeln in verschiedenen Größen zustande. Die nicht passenden Größen werden dann vom Käufer wieder zurückgesendet. Unter diese Versandhändler fällt, mit einer Rückläuferquote von bis zu 50%, auch das Unternehmen Zalando. Dabei müssen 97% der zurückgesendeten Produkte wieder eingelagert und verkauft werden. Für den erneuten Verkauf werden die Produkte, in diesem Betrachtungsfall Klamotten, identifiziert, gelabelt und bei Bedarf wieder eingelagert. Das Unternehmen Zalando verschickte im Jahr 2019 rund 186 Millionen Bestellungen. Wenn man davon ausgeht, dass eine Bestellung 4 Artikel beinhaltet und 50% der Bestellungen wieder zurückgesendet werden, ergibt das 372 Millionen Artikel, die wieder neu gelabelt und eingelagert werden müssen.\n",
    "\n",
    "Die Unterstützung und Optimierung der Rückläuferbearbeitung, kann zum Beispiel durch eine AI gestützte Klassifikation gewährleistet werden. Mit diesem Ansatz kann dann die zu einem Artikel zugehörige Kategorie, auf Basis von Bildern, bestimmt werden. Damit ergibt sich die Frage- bzw. Problemstellung, inwiefern können Machine Learning Algorithmen bei der Klassifizierung von Bildern einzelner Kleidungsstücke unterstützen?"
   ]
  },
  {
   "cell_type": "markdown",
   "metadata": {},
   "source": [
    "# 2. Data Understanding"
   ]
  },
  {
   "cell_type": "markdown",
   "metadata": {},
   "source": [
    "## 2.1 Daten lesen"
   ]
  },
  {
   "cell_type": "code",
   "execution_count": 13,
   "metadata": {},
   "outputs": [],
   "source": [
    "# Pfade der trainingsdaten und testdaten\n",
    "csv_file_train = \"../data/fashion-mnist_train.csv\"\n",
    "csv_file_test = \"../data/fashion-mnist_test.csv\"\n",
    "\n",
    "# lesen der CSV-Datei mit panda Bibliothek\n",
    "df_train = pd.read_csv(csv_file_train) \n",
    "df_test = pd.read_csv(csv_file_test)\n",
    "# unterteilt in (dataframe = df)_training und test\n",
    "\n",
    "# erstelle copien\n",
    "df_train_copy = df_train.copy()\n",
    "df_test_copy = df_test.copy()\n"
   ]
  },
  {
   "cell_type": "markdown",
   "metadata": {},
   "source": [
    "## 2.2 Daten Analyse"
   ]
  },
  {
   "cell_type": "code",
   "execution_count": 14,
   "metadata": {},
   "outputs": [
    {
     "data": {
      "text/html": [
       "<div>\n",
       "<style scoped>\n",
       "    .dataframe tbody tr th:only-of-type {\n",
       "        vertical-align: middle;\n",
       "    }\n",
       "\n",
       "    .dataframe tbody tr th {\n",
       "        vertical-align: top;\n",
       "    }\n",
       "\n",
       "    .dataframe thead th {\n",
       "        text-align: right;\n",
       "    }\n",
       "</style>\n",
       "<table border=\"1\" class=\"dataframe\">\n",
       "  <thead>\n",
       "    <tr style=\"text-align: right;\">\n",
       "      <th></th>\n",
       "      <th>label</th>\n",
       "      <th>pixel1</th>\n",
       "      <th>pixel2</th>\n",
       "      <th>pixel3</th>\n",
       "      <th>pixel4</th>\n",
       "      <th>pixel5</th>\n",
       "      <th>pixel6</th>\n",
       "      <th>pixel7</th>\n",
       "      <th>pixel8</th>\n",
       "      <th>pixel9</th>\n",
       "      <th>...</th>\n",
       "      <th>pixel775</th>\n",
       "      <th>pixel776</th>\n",
       "      <th>pixel777</th>\n",
       "      <th>pixel778</th>\n",
       "      <th>pixel779</th>\n",
       "      <th>pixel780</th>\n",
       "      <th>pixel781</th>\n",
       "      <th>pixel782</th>\n",
       "      <th>pixel783</th>\n",
       "      <th>pixel784</th>\n",
       "    </tr>\n",
       "  </thead>\n",
       "  <tbody>\n",
       "    <tr>\n",
       "      <th>count</th>\n",
       "      <td>60000.000000</td>\n",
       "      <td>60000.000000</td>\n",
       "      <td>60000.000000</td>\n",
       "      <td>60000.000000</td>\n",
       "      <td>60000.000000</td>\n",
       "      <td>60000.000000</td>\n",
       "      <td>60000.000000</td>\n",
       "      <td>60000.000000</td>\n",
       "      <td>60000.000000</td>\n",
       "      <td>60000.000000</td>\n",
       "      <td>...</td>\n",
       "      <td>60000.000000</td>\n",
       "      <td>60000.000000</td>\n",
       "      <td>60000.000000</td>\n",
       "      <td>60000.000000</td>\n",
       "      <td>60000.000000</td>\n",
       "      <td>60000.000000</td>\n",
       "      <td>60000.000000</td>\n",
       "      <td>60000.000000</td>\n",
       "      <td>60000.000000</td>\n",
       "      <td>60000.00000</td>\n",
       "    </tr>\n",
       "    <tr>\n",
       "      <th>mean</th>\n",
       "      <td>4.500000</td>\n",
       "      <td>0.000900</td>\n",
       "      <td>0.006150</td>\n",
       "      <td>0.035333</td>\n",
       "      <td>0.101933</td>\n",
       "      <td>0.247967</td>\n",
       "      <td>0.411467</td>\n",
       "      <td>0.805767</td>\n",
       "      <td>2.198283</td>\n",
       "      <td>5.682000</td>\n",
       "      <td>...</td>\n",
       "      <td>34.625400</td>\n",
       "      <td>23.300683</td>\n",
       "      <td>16.588267</td>\n",
       "      <td>17.869433</td>\n",
       "      <td>22.814817</td>\n",
       "      <td>17.911483</td>\n",
       "      <td>8.520633</td>\n",
       "      <td>2.753300</td>\n",
       "      <td>0.855517</td>\n",
       "      <td>0.07025</td>\n",
       "    </tr>\n",
       "    <tr>\n",
       "      <th>std</th>\n",
       "      <td>2.872305</td>\n",
       "      <td>0.094689</td>\n",
       "      <td>0.271011</td>\n",
       "      <td>1.222324</td>\n",
       "      <td>2.452871</td>\n",
       "      <td>4.306912</td>\n",
       "      <td>5.836188</td>\n",
       "      <td>8.215169</td>\n",
       "      <td>14.093378</td>\n",
       "      <td>23.819481</td>\n",
       "      <td>...</td>\n",
       "      <td>57.545242</td>\n",
       "      <td>48.854427</td>\n",
       "      <td>41.979611</td>\n",
       "      <td>43.966032</td>\n",
       "      <td>51.830477</td>\n",
       "      <td>45.149388</td>\n",
       "      <td>29.614859</td>\n",
       "      <td>17.397652</td>\n",
       "      <td>9.356960</td>\n",
       "      <td>2.12587</td>\n",
       "    </tr>\n",
       "    <tr>\n",
       "      <th>min</th>\n",
       "      <td>0.000000</td>\n",
       "      <td>0.000000</td>\n",
       "      <td>0.000000</td>\n",
       "      <td>0.000000</td>\n",
       "      <td>0.000000</td>\n",
       "      <td>0.000000</td>\n",
       "      <td>0.000000</td>\n",
       "      <td>0.000000</td>\n",
       "      <td>0.000000</td>\n",
       "      <td>0.000000</td>\n",
       "      <td>...</td>\n",
       "      <td>0.000000</td>\n",
       "      <td>0.000000</td>\n",
       "      <td>0.000000</td>\n",
       "      <td>0.000000</td>\n",
       "      <td>0.000000</td>\n",
       "      <td>0.000000</td>\n",
       "      <td>0.000000</td>\n",
       "      <td>0.000000</td>\n",
       "      <td>0.000000</td>\n",
       "      <td>0.00000</td>\n",
       "    </tr>\n",
       "    <tr>\n",
       "      <th>25%</th>\n",
       "      <td>2.000000</td>\n",
       "      <td>0.000000</td>\n",
       "      <td>0.000000</td>\n",
       "      <td>0.000000</td>\n",
       "      <td>0.000000</td>\n",
       "      <td>0.000000</td>\n",
       "      <td>0.000000</td>\n",
       "      <td>0.000000</td>\n",
       "      <td>0.000000</td>\n",
       "      <td>0.000000</td>\n",
       "      <td>...</td>\n",
       "      <td>0.000000</td>\n",
       "      <td>0.000000</td>\n",
       "      <td>0.000000</td>\n",
       "      <td>0.000000</td>\n",
       "      <td>0.000000</td>\n",
       "      <td>0.000000</td>\n",
       "      <td>0.000000</td>\n",
       "      <td>0.000000</td>\n",
       "      <td>0.000000</td>\n",
       "      <td>0.00000</td>\n",
       "    </tr>\n",
       "    <tr>\n",
       "      <th>50%</th>\n",
       "      <td>4.500000</td>\n",
       "      <td>0.000000</td>\n",
       "      <td>0.000000</td>\n",
       "      <td>0.000000</td>\n",
       "      <td>0.000000</td>\n",
       "      <td>0.000000</td>\n",
       "      <td>0.000000</td>\n",
       "      <td>0.000000</td>\n",
       "      <td>0.000000</td>\n",
       "      <td>0.000000</td>\n",
       "      <td>...</td>\n",
       "      <td>0.000000</td>\n",
       "      <td>0.000000</td>\n",
       "      <td>0.000000</td>\n",
       "      <td>0.000000</td>\n",
       "      <td>0.000000</td>\n",
       "      <td>0.000000</td>\n",
       "      <td>0.000000</td>\n",
       "      <td>0.000000</td>\n",
       "      <td>0.000000</td>\n",
       "      <td>0.00000</td>\n",
       "    </tr>\n",
       "    <tr>\n",
       "      <th>75%</th>\n",
       "      <td>7.000000</td>\n",
       "      <td>0.000000</td>\n",
       "      <td>0.000000</td>\n",
       "      <td>0.000000</td>\n",
       "      <td>0.000000</td>\n",
       "      <td>0.000000</td>\n",
       "      <td>0.000000</td>\n",
       "      <td>0.000000</td>\n",
       "      <td>0.000000</td>\n",
       "      <td>0.000000</td>\n",
       "      <td>...</td>\n",
       "      <td>58.000000</td>\n",
       "      <td>9.000000</td>\n",
       "      <td>0.000000</td>\n",
       "      <td>0.000000</td>\n",
       "      <td>0.000000</td>\n",
       "      <td>0.000000</td>\n",
       "      <td>0.000000</td>\n",
       "      <td>0.000000</td>\n",
       "      <td>0.000000</td>\n",
       "      <td>0.00000</td>\n",
       "    </tr>\n",
       "    <tr>\n",
       "      <th>max</th>\n",
       "      <td>9.000000</td>\n",
       "      <td>16.000000</td>\n",
       "      <td>36.000000</td>\n",
       "      <td>226.000000</td>\n",
       "      <td>164.000000</td>\n",
       "      <td>227.000000</td>\n",
       "      <td>230.000000</td>\n",
       "      <td>224.000000</td>\n",
       "      <td>255.000000</td>\n",
       "      <td>254.000000</td>\n",
       "      <td>...</td>\n",
       "      <td>255.000000</td>\n",
       "      <td>255.000000</td>\n",
       "      <td>255.000000</td>\n",
       "      <td>255.000000</td>\n",
       "      <td>255.000000</td>\n",
       "      <td>255.000000</td>\n",
       "      <td>255.000000</td>\n",
       "      <td>255.000000</td>\n",
       "      <td>255.000000</td>\n",
       "      <td>170.00000</td>\n",
       "    </tr>\n",
       "  </tbody>\n",
       "</table>\n",
       "<p>8 rows × 785 columns</p>\n",
       "</div>"
      ],
      "text/plain": [
       "              label        pixel1        pixel2        pixel3        pixel4  \\\n",
       "count  60000.000000  60000.000000  60000.000000  60000.000000  60000.000000   \n",
       "mean       4.500000      0.000900      0.006150      0.035333      0.101933   \n",
       "std        2.872305      0.094689      0.271011      1.222324      2.452871   \n",
       "min        0.000000      0.000000      0.000000      0.000000      0.000000   \n",
       "25%        2.000000      0.000000      0.000000      0.000000      0.000000   \n",
       "50%        4.500000      0.000000      0.000000      0.000000      0.000000   \n",
       "75%        7.000000      0.000000      0.000000      0.000000      0.000000   \n",
       "max        9.000000     16.000000     36.000000    226.000000    164.000000   \n",
       "\n",
       "             pixel5        pixel6        pixel7        pixel8        pixel9  \\\n",
       "count  60000.000000  60000.000000  60000.000000  60000.000000  60000.000000   \n",
       "mean       0.247967      0.411467      0.805767      2.198283      5.682000   \n",
       "std        4.306912      5.836188      8.215169     14.093378     23.819481   \n",
       "min        0.000000      0.000000      0.000000      0.000000      0.000000   \n",
       "25%        0.000000      0.000000      0.000000      0.000000      0.000000   \n",
       "50%        0.000000      0.000000      0.000000      0.000000      0.000000   \n",
       "75%        0.000000      0.000000      0.000000      0.000000      0.000000   \n",
       "max      227.000000    230.000000    224.000000    255.000000    254.000000   \n",
       "\n",
       "       ...      pixel775      pixel776      pixel777      pixel778  \\\n",
       "count  ...  60000.000000  60000.000000  60000.000000  60000.000000   \n",
       "mean   ...     34.625400     23.300683     16.588267     17.869433   \n",
       "std    ...     57.545242     48.854427     41.979611     43.966032   \n",
       "min    ...      0.000000      0.000000      0.000000      0.000000   \n",
       "25%    ...      0.000000      0.000000      0.000000      0.000000   \n",
       "50%    ...      0.000000      0.000000      0.000000      0.000000   \n",
       "75%    ...     58.000000      9.000000      0.000000      0.000000   \n",
       "max    ...    255.000000    255.000000    255.000000    255.000000   \n",
       "\n",
       "           pixel779      pixel780      pixel781      pixel782      pixel783  \\\n",
       "count  60000.000000  60000.000000  60000.000000  60000.000000  60000.000000   \n",
       "mean      22.814817     17.911483      8.520633      2.753300      0.855517   \n",
       "std       51.830477     45.149388     29.614859     17.397652      9.356960   \n",
       "min        0.000000      0.000000      0.000000      0.000000      0.000000   \n",
       "25%        0.000000      0.000000      0.000000      0.000000      0.000000   \n",
       "50%        0.000000      0.000000      0.000000      0.000000      0.000000   \n",
       "75%        0.000000      0.000000      0.000000      0.000000      0.000000   \n",
       "max      255.000000    255.000000    255.000000    255.000000    255.000000   \n",
       "\n",
       "          pixel784  \n",
       "count  60000.00000  \n",
       "mean       0.07025  \n",
       "std        2.12587  \n",
       "min        0.00000  \n",
       "25%        0.00000  \n",
       "50%        0.00000  \n",
       "75%        0.00000  \n",
       "max      170.00000  \n",
       "\n",
       "[8 rows x 785 columns]"
      ]
     },
     "execution_count": 14,
     "metadata": {},
     "output_type": "execute_result"
    }
   ],
   "source": [
    "# trainingsdaten beschreiben\n",
    "df_train.describe()"
   ]
  },
  {
   "cell_type": "code",
   "execution_count": 15,
   "metadata": {},
   "outputs": [
    {
     "data": {
      "text/html": [
       "<div>\n",
       "<style scoped>\n",
       "    .dataframe tbody tr th:only-of-type {\n",
       "        vertical-align: middle;\n",
       "    }\n",
       "\n",
       "    .dataframe tbody tr th {\n",
       "        vertical-align: top;\n",
       "    }\n",
       "\n",
       "    .dataframe thead th {\n",
       "        text-align: right;\n",
       "    }\n",
       "</style>\n",
       "<table border=\"1\" class=\"dataframe\">\n",
       "  <thead>\n",
       "    <tr style=\"text-align: right;\">\n",
       "      <th></th>\n",
       "      <th>label</th>\n",
       "      <th>pixel1</th>\n",
       "      <th>pixel2</th>\n",
       "      <th>pixel3</th>\n",
       "      <th>pixel4</th>\n",
       "      <th>pixel5</th>\n",
       "      <th>pixel6</th>\n",
       "      <th>pixel7</th>\n",
       "      <th>pixel8</th>\n",
       "      <th>pixel9</th>\n",
       "      <th>...</th>\n",
       "      <th>pixel775</th>\n",
       "      <th>pixel776</th>\n",
       "      <th>pixel777</th>\n",
       "      <th>pixel778</th>\n",
       "      <th>pixel779</th>\n",
       "      <th>pixel780</th>\n",
       "      <th>pixel781</th>\n",
       "      <th>pixel782</th>\n",
       "      <th>pixel783</th>\n",
       "      <th>pixel784</th>\n",
       "    </tr>\n",
       "  </thead>\n",
       "  <tbody>\n",
       "    <tr>\n",
       "      <th>count</th>\n",
       "      <td>10000.000000</td>\n",
       "      <td>10000.000000</td>\n",
       "      <td>10000.000000</td>\n",
       "      <td>10000.000000</td>\n",
       "      <td>10000.000000</td>\n",
       "      <td>10000.000000</td>\n",
       "      <td>10000.000000</td>\n",
       "      <td>10000.000000</td>\n",
       "      <td>10000.000000</td>\n",
       "      <td>10000.000000</td>\n",
       "      <td>...</td>\n",
       "      <td>10000.000000</td>\n",
       "      <td>10000.000000</td>\n",
       "      <td>10000.000000</td>\n",
       "      <td>10000.000000</td>\n",
       "      <td>10000.000000</td>\n",
       "      <td>10000.000000</td>\n",
       "      <td>10000.000000</td>\n",
       "      <td>10000.000000</td>\n",
       "      <td>10000.000000</td>\n",
       "      <td>10000.00000</td>\n",
       "    </tr>\n",
       "    <tr>\n",
       "      <th>mean</th>\n",
       "      <td>4.500000</td>\n",
       "      <td>0.000400</td>\n",
       "      <td>0.010300</td>\n",
       "      <td>0.052100</td>\n",
       "      <td>0.077000</td>\n",
       "      <td>0.208600</td>\n",
       "      <td>0.349200</td>\n",
       "      <td>0.826700</td>\n",
       "      <td>2.321200</td>\n",
       "      <td>5.457800</td>\n",
       "      <td>...</td>\n",
       "      <td>34.320800</td>\n",
       "      <td>23.071900</td>\n",
       "      <td>16.432000</td>\n",
       "      <td>17.870600</td>\n",
       "      <td>22.860000</td>\n",
       "      <td>17.790200</td>\n",
       "      <td>8.353500</td>\n",
       "      <td>2.541600</td>\n",
       "      <td>0.629500</td>\n",
       "      <td>0.06560</td>\n",
       "    </tr>\n",
       "    <tr>\n",
       "      <th>std</th>\n",
       "      <td>2.872425</td>\n",
       "      <td>0.024493</td>\n",
       "      <td>0.525187</td>\n",
       "      <td>2.494315</td>\n",
       "      <td>2.208882</td>\n",
       "      <td>4.669183</td>\n",
       "      <td>5.657849</td>\n",
       "      <td>8.591731</td>\n",
       "      <td>15.031508</td>\n",
       "      <td>23.359019</td>\n",
       "      <td>...</td>\n",
       "      <td>57.888679</td>\n",
       "      <td>49.049749</td>\n",
       "      <td>42.159665</td>\n",
       "      <td>44.140552</td>\n",
       "      <td>51.706601</td>\n",
       "      <td>45.128107</td>\n",
       "      <td>28.765769</td>\n",
       "      <td>16.417363</td>\n",
       "      <td>7.462533</td>\n",
       "      <td>1.93403</td>\n",
       "    </tr>\n",
       "    <tr>\n",
       "      <th>min</th>\n",
       "      <td>0.000000</td>\n",
       "      <td>0.000000</td>\n",
       "      <td>0.000000</td>\n",
       "      <td>0.000000</td>\n",
       "      <td>0.000000</td>\n",
       "      <td>0.000000</td>\n",
       "      <td>0.000000</td>\n",
       "      <td>0.000000</td>\n",
       "      <td>0.000000</td>\n",
       "      <td>0.000000</td>\n",
       "      <td>...</td>\n",
       "      <td>0.000000</td>\n",
       "      <td>0.000000</td>\n",
       "      <td>0.000000</td>\n",
       "      <td>0.000000</td>\n",
       "      <td>0.000000</td>\n",
       "      <td>0.000000</td>\n",
       "      <td>0.000000</td>\n",
       "      <td>0.000000</td>\n",
       "      <td>0.000000</td>\n",
       "      <td>0.00000</td>\n",
       "    </tr>\n",
       "    <tr>\n",
       "      <th>25%</th>\n",
       "      <td>2.000000</td>\n",
       "      <td>0.000000</td>\n",
       "      <td>0.000000</td>\n",
       "      <td>0.000000</td>\n",
       "      <td>0.000000</td>\n",
       "      <td>0.000000</td>\n",
       "      <td>0.000000</td>\n",
       "      <td>0.000000</td>\n",
       "      <td>0.000000</td>\n",
       "      <td>0.000000</td>\n",
       "      <td>...</td>\n",
       "      <td>0.000000</td>\n",
       "      <td>0.000000</td>\n",
       "      <td>0.000000</td>\n",
       "      <td>0.000000</td>\n",
       "      <td>0.000000</td>\n",
       "      <td>0.000000</td>\n",
       "      <td>0.000000</td>\n",
       "      <td>0.000000</td>\n",
       "      <td>0.000000</td>\n",
       "      <td>0.00000</td>\n",
       "    </tr>\n",
       "    <tr>\n",
       "      <th>50%</th>\n",
       "      <td>4.500000</td>\n",
       "      <td>0.000000</td>\n",
       "      <td>0.000000</td>\n",
       "      <td>0.000000</td>\n",
       "      <td>0.000000</td>\n",
       "      <td>0.000000</td>\n",
       "      <td>0.000000</td>\n",
       "      <td>0.000000</td>\n",
       "      <td>0.000000</td>\n",
       "      <td>0.000000</td>\n",
       "      <td>...</td>\n",
       "      <td>0.000000</td>\n",
       "      <td>0.000000</td>\n",
       "      <td>0.000000</td>\n",
       "      <td>0.000000</td>\n",
       "      <td>0.000000</td>\n",
       "      <td>0.000000</td>\n",
       "      <td>0.000000</td>\n",
       "      <td>0.000000</td>\n",
       "      <td>0.000000</td>\n",
       "      <td>0.00000</td>\n",
       "    </tr>\n",
       "    <tr>\n",
       "      <th>75%</th>\n",
       "      <td>7.000000</td>\n",
       "      <td>0.000000</td>\n",
       "      <td>0.000000</td>\n",
       "      <td>0.000000</td>\n",
       "      <td>0.000000</td>\n",
       "      <td>0.000000</td>\n",
       "      <td>0.000000</td>\n",
       "      <td>0.000000</td>\n",
       "      <td>0.000000</td>\n",
       "      <td>0.000000</td>\n",
       "      <td>...</td>\n",
       "      <td>55.000000</td>\n",
       "      <td>6.000000</td>\n",
       "      <td>0.000000</td>\n",
       "      <td>0.000000</td>\n",
       "      <td>1.000000</td>\n",
       "      <td>0.000000</td>\n",
       "      <td>0.000000</td>\n",
       "      <td>0.000000</td>\n",
       "      <td>0.000000</td>\n",
       "      <td>0.00000</td>\n",
       "    </tr>\n",
       "    <tr>\n",
       "      <th>max</th>\n",
       "      <td>9.000000</td>\n",
       "      <td>2.000000</td>\n",
       "      <td>45.000000</td>\n",
       "      <td>218.000000</td>\n",
       "      <td>185.000000</td>\n",
       "      <td>227.000000</td>\n",
       "      <td>223.000000</td>\n",
       "      <td>247.000000</td>\n",
       "      <td>218.000000</td>\n",
       "      <td>244.000000</td>\n",
       "      <td>...</td>\n",
       "      <td>254.000000</td>\n",
       "      <td>252.000000</td>\n",
       "      <td>255.000000</td>\n",
       "      <td>255.000000</td>\n",
       "      <td>255.000000</td>\n",
       "      <td>255.000000</td>\n",
       "      <td>240.000000</td>\n",
       "      <td>225.000000</td>\n",
       "      <td>205.000000</td>\n",
       "      <td>107.00000</td>\n",
       "    </tr>\n",
       "  </tbody>\n",
       "</table>\n",
       "<p>8 rows × 785 columns</p>\n",
       "</div>"
      ],
      "text/plain": [
       "              label        pixel1        pixel2        pixel3        pixel4  \\\n",
       "count  10000.000000  10000.000000  10000.000000  10000.000000  10000.000000   \n",
       "mean       4.500000      0.000400      0.010300      0.052100      0.077000   \n",
       "std        2.872425      0.024493      0.525187      2.494315      2.208882   \n",
       "min        0.000000      0.000000      0.000000      0.000000      0.000000   \n",
       "25%        2.000000      0.000000      0.000000      0.000000      0.000000   \n",
       "50%        4.500000      0.000000      0.000000      0.000000      0.000000   \n",
       "75%        7.000000      0.000000      0.000000      0.000000      0.000000   \n",
       "max        9.000000      2.000000     45.000000    218.000000    185.000000   \n",
       "\n",
       "             pixel5        pixel6        pixel7        pixel8        pixel9  \\\n",
       "count  10000.000000  10000.000000  10000.000000  10000.000000  10000.000000   \n",
       "mean       0.208600      0.349200      0.826700      2.321200      5.457800   \n",
       "std        4.669183      5.657849      8.591731     15.031508     23.359019   \n",
       "min        0.000000      0.000000      0.000000      0.000000      0.000000   \n",
       "25%        0.000000      0.000000      0.000000      0.000000      0.000000   \n",
       "50%        0.000000      0.000000      0.000000      0.000000      0.000000   \n",
       "75%        0.000000      0.000000      0.000000      0.000000      0.000000   \n",
       "max      227.000000    223.000000    247.000000    218.000000    244.000000   \n",
       "\n",
       "       ...      pixel775      pixel776      pixel777      pixel778  \\\n",
       "count  ...  10000.000000  10000.000000  10000.000000  10000.000000   \n",
       "mean   ...     34.320800     23.071900     16.432000     17.870600   \n",
       "std    ...     57.888679     49.049749     42.159665     44.140552   \n",
       "min    ...      0.000000      0.000000      0.000000      0.000000   \n",
       "25%    ...      0.000000      0.000000      0.000000      0.000000   \n",
       "50%    ...      0.000000      0.000000      0.000000      0.000000   \n",
       "75%    ...     55.000000      6.000000      0.000000      0.000000   \n",
       "max    ...    254.000000    252.000000    255.000000    255.000000   \n",
       "\n",
       "           pixel779      pixel780      pixel781      pixel782      pixel783  \\\n",
       "count  10000.000000  10000.000000  10000.000000  10000.000000  10000.000000   \n",
       "mean      22.860000     17.790200      8.353500      2.541600      0.629500   \n",
       "std       51.706601     45.128107     28.765769     16.417363      7.462533   \n",
       "min        0.000000      0.000000      0.000000      0.000000      0.000000   \n",
       "25%        0.000000      0.000000      0.000000      0.000000      0.000000   \n",
       "50%        0.000000      0.000000      0.000000      0.000000      0.000000   \n",
       "75%        1.000000      0.000000      0.000000      0.000000      0.000000   \n",
       "max      255.000000    255.000000    240.000000    225.000000    205.000000   \n",
       "\n",
       "          pixel784  \n",
       "count  10000.00000  \n",
       "mean       0.06560  \n",
       "std        1.93403  \n",
       "min        0.00000  \n",
       "25%        0.00000  \n",
       "50%        0.00000  \n",
       "75%        0.00000  \n",
       "max      107.00000  \n",
       "\n",
       "[8 rows x 785 columns]"
      ]
     },
     "execution_count": 15,
     "metadata": {},
     "output_type": "execute_result"
    }
   ],
   "source": [
    "# testdaten beschreiben\n",
    "df_test.describe()"
   ]
  },
  {
   "cell_type": "markdown",
   "metadata": {},
   "source": [
    "Der für diese Arbeit gewählte Datensatz heißt Fashion MNIST und wurde im Jahr 2017 von dem Unternehmen Zalando veröffentlicht. Der Datensatz steht in einer GitHub Repository zur Verfügung und ist frei zugänglich. \n",
    "\n",
    "Er beinhaltet Zalando-Artikelbilder, die in zwei Datensätze aufgeteilt sind. Der erste Satz (df_train) enthält 60.000 Beispiele, die für das Training verwendet werden und der zweite Satz (df_test) 10.000 Beispiele, die für das Testen verwendet werden. \n",
    "\n",
    "Jedes Beispiel, welches jeweils ein Bild darstellt, ist ein 28x28 Graustufenbild. Jedem Bild wird dabei noch ein Label zugeordnet."
   ]
  },
  {
   "cell_type": "code",
   "execution_count": 16,
   "metadata": {},
   "outputs": [
    {
     "name": "stdout",
     "output_type": "stream",
     "text": [
      "   label  pixel1  pixel2  pixel3  pixel4  pixel5  pixel6  pixel7  pixel8  \\\n",
      "0      2       0       0       0       0       0       0       0       0   \n",
      "1      9       0       0       0       0       0       0       0       0   \n",
      "2      6       0       0       0       0       0       0       0       5   \n",
      "3      0       0       0       0       1       2       0       0       0   \n",
      "4      3       0       0       0       0       0       0       0       0   \n",
      "\n",
      "   pixel9  ...  pixel775  pixel776  pixel777  pixel778  pixel779  pixel780  \\\n",
      "0       0  ...         0         0         0         0         0         0   \n",
      "1       0  ...         0         0         0         0         0         0   \n",
      "2       0  ...         0         0         0        30        43         0   \n",
      "3       0  ...         3         0         0         0         0         1   \n",
      "4       0  ...         0         0         0         0         0         0   \n",
      "\n",
      "   pixel781  pixel782  pixel783  pixel784  \n",
      "0         0         0         0         0  \n",
      "1         0         0         0         0  \n",
      "2         0         0         0         0  \n",
      "3         0         0         0         0  \n",
      "4         0         0         0         0  \n",
      "\n",
      "[5 rows x 785 columns]\n"
     ]
    }
   ],
   "source": [
    "# alle spalten (Attribute)\n",
    "\n",
    "print(df_train.head())\n"
   ]
  },
  {
   "cell_type": "markdown",
   "metadata": {},
   "source": [
    "Ein Label repräsentiert eins der 10 Klassen, wobei jede Klasse eine Artikelkategorie darstellt. "
   ]
  },
  {
   "cell_type": "code",
   "execution_count": 17,
   "metadata": {},
   "outputs": [],
   "source": [
    "# diese 10 Klassen definieren wir im Array\n",
    "klassen_name = ['Top','Trouser','Pullover','Dress','Coat',\n",
    "               'Sandal','Shirt','Sneaker','Bag','Ankle boot']"
   ]
  },
  {
   "cell_type": "markdown",
   "metadata": {},
   "source": [
    "In der folgenden Abbildung ist eine Übersicht des Datensatzes bzw. der Bilder zu sehen. Dabei werden pro Klasse drei Zeilen beansprucht."
   ]
  },
  {
   "cell_type": "code",
   "execution_count": 18,
   "metadata": {},
   "outputs": [
    {
     "data": {
      "image/png": "[encoded data removed]",
      "text/plain": [
       "<Figure size 720x504 with 1 Axes>"
      ]
     },
     "metadata": {},
     "output_type": "display_data"
    },
    {
     "data": {
      "image/png": "[encoded data removed]",
      "text/plain": [
       "<Figure size 720x504 with 1 Axes>"
      ]
     },
     "metadata": {},
     "output_type": "display_data"
    }
   ],
   "source": [
    "# function zur erstellung der Labelnamen im Diagram\n",
    "def func(pct, allvalues):\n",
    "    absolute = int(pct / 100.*np.sum(allvalues))\n",
    "    return \"{:.1f}%\\n({:d})\".format(pct, absolute)\n",
    "\n",
    "def plot_pie(title, data):\n",
    "    # plot erstellen\n",
    "    fig, ax = plt.subplots(figsize =(10, 7))\n",
    "    plt.pie(data, autopct = lambda pct: func(pct, data), labels = klassen_name)\n",
    "    ax.set_title(title)\n",
    "    # plot anzeigen\n",
    "    plt.show()\n",
    "\n",
    "# plote die trainingdaten \n",
    "plot_pie(\"Verteilung Trainingsdatensatz\", df_train[\"label\"].value_counts())\n",
    "# plote die testdaten\n",
    "plot_pie(\"Verteilung Testdatensatz\", df_test[\"label\"].value_counts())"
   ]
  },
  {
   "cell_type": "markdown",
   "metadata": {},
   "source": [
    "Der Trainings- als auch der Testdatensatz ist ziemlich ausgeglichen. In jedem Satz ist jede Kategorie mit ca. 10\\% vertreten, was in den nächsten Abbildungen zu sehen ist."
   ]
  },
  {
   "cell_type": "markdown",
   "metadata": {},
   "source": [
    "Aufgrund der Ausgeglichenheit der Daten müssen im Rahmen der Data Preparation keine großen Änderungen oder Vorbereitungen vorgenommen werden."
   ]
  },
  {
   "cell_type": "code",
   "execution_count": 19,
   "metadata": {},
   "outputs": [
    {
     "data": {
      "text/plain": [
       "<Figure size 720x720 with 0 Axes>"
      ]
     },
     "metadata": {},
     "output_type": "display_data"
    },
    {
     "data": {
      "image/png": "[encoded data removed]",
      "text/plain": [
       "<Figure size 720x720 with 10 Axes>"
      ]
     },
     "metadata": {},
     "output_type": "display_data"
    }
   ],
   "source": [
    "# ploten der einzelnen Klassen als Bild\n",
    "# plot größe definieren \n",
    "plt.figure(figsize=(10,10))\n",
    "# trenne label von restliche Attribute\n",
    "# um die Zielvariable von den Datensatzen zu entfernen\n",
    "\n",
    "# trainingsdatensatz wird in zweil datensätze geteilt\n",
    "# eines der Datensätze beinhaltet die label(klassen) werte (Zielvariable)\n",
    "y_train = df_train.pop('label').to_numpy()\n",
    "# der andere Datensatz beinhaltet  (28x28=784) die pixel werte\n",
    "x_train = df_train.to_numpy()\n",
    "\n",
    "# ein beispiel der Datensatz anhand ein bild zeigen\n",
    "image = x_train[0].reshape((28,28)) / 255.0\n",
    "\n",
    "# set size of plot\n",
    "plt.figure(figsize=(10,10))\n",
    "\n",
    "tempI = 0\n",
    "for index in range(len(x_train)):\n",
    "    klasse = y_train[index]\n",
    "    img = x_train[index] / 255.0\n",
    "    if klasse == tempI:\n",
    "        img = img.reshape((28,28))\n",
    "        plt.subplot(5,5,tempI+1)\n",
    "        plt.xticks([])\n",
    "        plt.yticks([])\n",
    "        plt.grid(False)\n",
    "        plt.imshow(img, cmap=plt.cm.binary)\n",
    "        plt.title(klassen_name[klasse])\n",
    "        tempI += 1\n",
    "    if tempI == 10:\n",
    "        break\n",
    "plt.show()"
   ]
  },
  {
   "cell_type": "markdown",
   "metadata": {},
   "source": [
    "Jedes der oben abegbildeten Element stellen eine Klasse (label) da. Jede einzelne Zeile aus dem Datensatz stellt eine dieser Klassen dar, diese können jedoch untereinander varieren. Dazu sehen wir ein weiters Beispiel aus dem Datensatz der zu Klasse Ankle Boot gehört."
   ]
  },
  {
   "cell_type": "code",
   "execution_count": 20,
   "metadata": {},
   "outputs": [
    {
     "data": {
      "image/png": "[encoded data removed]",
      "text/plain": [
       "<Figure size 432x288 with 2 Axes>"
      ]
     },
     "metadata": {
      "needs_background": "light"
     },
     "output_type": "display_data"
    }
   ],
   "source": [
    "# aus der Traindaten holen wir ein weiters beispeil zu klasse Ankle Boot aus dem index 1\n",
    "# und formen die pixel angaben um.\n",
    "image = x_train[1].reshape((28,28)) / 255.0\n",
    "\n",
    "# plot erstellen\n",
    "plt.figure()\n",
    "plt.imshow(image, cmap=plt.cm.binary)\n",
    "plt.colorbar()\n",
    "plt.grid(False)\n",
    "# plot anzeigen\n",
    "plt.show()"
   ]
  },
  {
   "cell_type": "markdown",
   "metadata": {},
   "source": [
    "# 3. Data preperation"
   ]
  },
  {
   "cell_type": "markdown",
   "metadata": {},
   "source": [
    "## 3.1. Definiere Test-, Training- und Validierungsdaten"
   ]
  },
  {
   "cell_type": "code",
   "execution_count": 21,
   "metadata": {},
   "outputs": [
    {
     "name": "stdout",
     "output_type": "stream",
     "text": [
      "54000 train examples\n",
      "6000 validation examples\n",
      "10000 test examples\n"
     ]
    }
   ],
   "source": [
    "#validierungsdaten trainsplit\n",
    "df_train, df_val = train_test_split(df_train_copy, test_size=0.1, random_state=250)\n",
    "\n",
    "# zunächst definieren wir unsere trainingsdaten aus den trainingsplit\n",
    "y_train = df_train.pop('label').to_numpy() # Zielvariable\n",
    "x_train = df_train.to_numpy() # Pixelwerte\n",
    "\n",
    "# validierungsdaten definieren\n",
    "y_val = df_val.pop('label').to_numpy() # Zielvariable\n",
    "x_val = df_val.to_numpy() # Pixelwerte\n",
    "\n",
    "# als nächstes definieren wir unsere testdaten\n",
    "y_test = df_test_copy.pop('label').to_numpy()\n",
    "x_test = df_test_copy.to_numpy()\n",
    "\n",
    "print(f\"{len(df_train)} train examples\")\n",
    "print(f\"{len(df_val)} validation examples\")\n",
    "print(f\"{len(df_test)} test examples\")"
   ]
  },
  {
   "cell_type": "markdown",
   "metadata": {},
   "source": [
    "## 3.2. Merkmalsskaliereung (feature-scaling)"
   ]
  },
  {
   "cell_type": "code",
   "execution_count": 22,
   "metadata": {},
   "outputs": [],
   "source": [
    "# normalisierung der trainingsdaten\n",
    "\n",
    "# da wir wissen es handelt sich hierbei um graustufen \n",
    "# die zwischen 0 bis 255 sein kann\n",
    "x_train = x_train / 255.0 \n",
    "\n",
    "# normalisierung der validierungsdaten\n",
    "x_val = x_val / 255.0\n",
    "\n",
    "# normalisierung der testdaten\n",
    "x_test = x_test / 255.0"
   ]
  },
  {
   "cell_type": "markdown",
   "metadata": {},
   "source": [
    "Da die pixeln ein wert zwischen 0 bis 255 sein kann, teilen wir diese werte durch 255 um eine zahl zwischen 0 bis 1 daraus zu machen. (Normalisierung)"
   ]
  },
  {
   "cell_type": "code",
   "execution_count": 23,
   "metadata": {},
   "outputs": [],
   "source": [
    "# Nun probieren wir die 784 pixlen angaben auf 28x28 pixlen umzuformen\n",
    "# dazu definierein wir erstmal die zeilen und spalten\n",
    "imgRow = 28\n",
    "imgCol = 28\n",
    "# die umformung definieren\n",
    "imgUmformen = (imgRow, imgCol, 1)\n",
    "\n",
    "# umformen der 784 spalten zu 28 Zeilen und 28 Spalten (28x28)\n",
    "x_train = x_train.reshape(x_train.shape[0], * imgUmformen)\n",
    "x_test = x_test.reshape(x_test.shape[0], * imgUmformen)\n",
    "x_val = x_val.reshape(x_val.shape[0], * imgUmformen)"
   ]
  },
  {
   "cell_type": "markdown",
   "metadata": {},
   "source": [
    "Als nächstes formen wir unsere Zielvariabel (y_train, y_test) zu einem Kategorischen Matrix."
   ]
  },
  {
   "cell_type": "code",
   "execution_count": 24,
   "metadata": {},
   "outputs": [],
   "source": [
    "# hierzu verwenden wir den Bibliotheken tensorflow das modul tensorflow.keras.utils\n",
    "y_train = to_categorical(y_train, 10)\n",
    "y_test = to_categorical(y_test, 10)\n",
    "y_val = to_categorical(y_val, 10)"
   ]
  },
  {
   "cell_type": "markdown",
   "metadata": {},
   "source": [
    "Zur kontrolle lassen wir die Dimension unseren datensätze anzeigen."
   ]
  },
  {
   "cell_type": "code",
   "execution_count": 25,
   "metadata": {},
   "outputs": [
    {
     "name": "stdout",
     "output_type": "stream",
     "text": [
      "X_TRAIN:  (54000, 28, 28, 1)\n",
      "X_VAL:  (6000, 28, 28, 1)\n",
      "X_TEST:  (10000, 28, 28, 1)\n",
      "Y_TRAIN:  (54000, 10)\n",
      "Y_VAL:  (6000, 10)\n",
      "Y_TEST:  (10000, 10)\n"
     ]
    }
   ],
   "source": [
    "print(\"X_TRAIN: \" , x_train.shape)\n",
    "print(\"X_VAL: \" , x_val.shape)\n",
    "print(\"X_TEST: \" , x_test.shape)\n",
    "print(\"Y_TRAIN: \" , y_train.shape)\n",
    "print(\"Y_VAL: \" , y_val.shape)\n",
    "print(\"Y_TEST: \" , y_test.shape)"
   ]
  },
  {
   "cell_type": "markdown",
   "metadata": {},
   "source": [
    "Die Daten sind soweit vorbereit, dass wir unseren ersten anlauf nehmen können."
   ]
  },
  {
   "cell_type": "markdown",
   "metadata": {},
   "source": [
    "# 4.Modellierung"
   ]
  },
  {
   "cell_type": "markdown",
   "metadata": {},
   "source": [
    "Wir erstell zunächst ein ganz simpeln CNN-Model. Dazu definieren wir unsere Layers wie auf der Ausarbeitung beschrieben wurde.\n",
    "\n",
    "    Convolutional Layer     = Conv2D\n",
    "    --------------------------------------\n",
    "    Pooling Layer           = MaxPooling2D\n",
    "    --------------------------------------\n",
    "    Fully-Connected Layer   = Dense\n",
    "    --------------------------------------\n",
    "\n"
   ]
  },
  {
   "cell_type": "markdown",
   "metadata": {},
   "source": [
    "Zunächst nur mit einen Convolutional Layer und einen Pooling Layer:"
   ]
  },
  {
   "cell_type": "code",
   "execution_count": 26,
   "metadata": {},
   "outputs": [
    {
     "name": "stdout",
     "output_type": "stream",
     "text": [
      "Model: \"sequential\"\n",
      "_________________________________________________________________\n",
      " Layer (type)                Output Shape              Param #   \n",
      "=================================================================\n",
      " conv2d (Conv2D)             (None, 28, 28, 32)        320       \n",
      "                                                                 \n",
      " max_pooling2d (MaxPooling2D  (None, 14, 14, 32)       0         \n",
      " )                                                               \n",
      "                                                                 \n",
      " conv2d_1 (Conv2D)           (None, 14, 14, 32)        9248      \n",
      "                                                                 \n",
      " max_pooling2d_1 (MaxPooling  (None, 7, 7, 32)         0         \n",
      " 2D)                                                             \n",
      "                                                                 \n",
      " flatten (Flatten)           (None, 1568)              0         \n",
      "                                                                 \n",
      " dense (Dense)               (None, 128)               200832    \n",
      "                                                                 \n",
      " dense_1 (Dense)             (None, 10)                1290      \n",
      "                                                                 \n",
      "=================================================================\n",
      "Total params: 211,690\n",
      "Trainable params: 211,690\n",
      "Non-trainable params: 0\n",
      "_________________________________________________________________\n"
     ]
    }
   ],
   "source": [
    "# Das modell initalizieren\n",
    "model_1 = Sequential()\n",
    "#Modellierungsstep 1:\n",
    "# fügen die 1. Feature-Extraktor mit input 28x28 dazu\n",
    "model_1.add(Conv2D(filters=32,kernel_size=3, activation='relu', padding='same', input_shape=(28, 28,1))) #(Feature-Extraktor)\n",
    "# fügen die Pooling Layer dazu\n",
    "model_1.add(MaxPooling2D(pool_size=(2, 2))) #(Feature-Extraktor)\n",
    "# fügen die 2. Feature-Extraktor mit input 28x28 dazu\n",
    "model_1.add(Conv2D(filters=32,kernel_size=3, activation='relu', padding='same', input_shape=(28, 28,1))) #(Feature-Extraktor) (Merkmale extrahieren)\n",
    "# fügen die Pooling Layer dazu\n",
    "model_1.add(MaxPooling2D(pool_size=(2, 2))) #(Feature-Extraktor)\n",
    "# flatten=Faltung (fasst die mehrdimensionale Matrix in eine liste zusammen) (nötig für kompatibilibitaet) (zusammenfassung der extrahierten Merkmale)\n",
    "model_1.add(Flatten())\n",
    "# und die fully-connected layer\n",
    "model_1.add(Dense(units=28, activation='relu'))\n",
    "model_1.add(Dense(units=10, activation='softmax'))\n",
    "# schließ das modell\n",
    "model_1.summary()"
   ]
  },
  {
   "cell_type": "markdown",
   "metadata": {},
   "source": [
    "Setzen die kompilier Einstellungen des Models."
   ]
  },
  {
   "cell_type": "code",
   "execution_count": 27,
   "metadata": {},
   "outputs": [],
   "source": [
    "# model compilen \n",
    "model_1.compile(\n",
    "    optimizer=tf.keras.optimizers.Adam(), \n",
    "    # setzen die loss function = Categorical crossentropy\n",
    "    loss= tf.keras.losses.categorical_crossentropy, \n",
    "    # setzten die metric präzision\n",
    "    metrics=['accuracy']\n",
    ")"
   ]
  },
  {
   "cell_type": "code",
   "execution_count": 28,
   "metadata": {},
   "outputs": [
    {
     "name": "stdout",
     "output_type": "stream",
     "text": [
      "Epoch 1/10\n",
      "916/916 [==============================] - 18s 19ms/step - loss: 0.4719 - accuracy: 0.8277 - val_loss: 0.3677 - val_accuracy: 0.8610\n",
      "Epoch 2/10\n",
      "916/916 [==============================] - 17s 19ms/step - loss: 0.3147 - accuracy: 0.8874 - val_loss: 0.3427 - val_accuracy: 0.8610\n",
      "Epoch 3/10\n",
      "916/916 [==============================] - 17s 19ms/step - loss: 0.2646 - accuracy: 0.9036 - val_loss: 0.2602 - val_accuracy: 0.9034\n",
      "Epoch 4/10\n",
      "916/916 [==============================] - 17s 19ms/step - loss: 0.2383 - accuracy: 0.9121 - val_loss: 0.2820 - val_accuracy: 0.9034\n",
      "Epoch 5/10\n",
      "916/916 [==============================] - 17s 19ms/step - loss: 0.2144 - accuracy: 0.9206 - val_loss: 0.2459 - val_accuracy: 0.9136\n",
      "Epoch 6/10\n",
      "916/916 [==============================] - 17s 19ms/step - loss: 0.1948 - accuracy: 0.9272 - val_loss: 0.2368 - val_accuracy: 0.9271\n",
      "Epoch 7/10\n",
      "916/916 [==============================] - 17s 19ms/step - loss: 0.1759 - accuracy: 0.9347 - val_loss: 0.2177 - val_accuracy: 0.9220\n",
      "Epoch 8/10\n",
      "916/916 [==============================] - 19s 21ms/step - loss: 0.1560 - accuracy: 0.9419 - val_loss: 0.2231 - val_accuracy: 0.9203\n",
      "Epoch 9/10\n",
      "916/916 [==============================] - 17s 19ms/step - loss: 0.1419 - accuracy: 0.9477 - val_loss: 0.2276 - val_accuracy: 0.9288\n",
      "Epoch 10/10\n",
      "916/916 [==============================] - 17s 19ms/step - loss: 0.1262 - accuracy: 0.9532 - val_loss: 0.2537 - val_accuracy: 0.9203\n"
     ]
    }
   ],
   "source": [
    "# Epoche anzahl definieren 10\n",
    "NUM_EPOCHS = 10\n",
    "# batch größe definieren \n",
    "BATCH_SIZE = 59\n",
    "\n",
    "# Trainingsphase starten\n",
    "history = model_1.fit(\n",
    "    # trainingsdaten attribute\n",
    "    x_train,\n",
    "    # trainingsdaten zielvariabel\n",
    "    y_train,\n",
    "    # batch size\n",
    "    batch_size=BATCH_SIZE,\n",
    "    # epochen anzahl\n",
    "    epochs=NUM_EPOCHS,\n",
    "    # validations daten\n",
    "    validation_data=(x_val, y_val), \n",
    "    # validationsschritte\n",
    "    validation_steps=10,\n",
    ")"
   ]
  },
  {
   "cell_type": "markdown",
   "metadata": {},
   "source": [
    "Nun wird oben jede einzelne Epochenergebnisse angezeigt. Die Ergebnisse zeigen, das die erste Epoch eine Präzision von 84% hat und die sich bei den nächste Epoche erhöhen. \n",
    "Damit hat das Model am ende eine Präzison\n",
    "von 96%. Da das val_loss sowohl die loss Variablen sich gegen null nähern, ist die betrachtung von Overfitting nicht nötig. Somit hat das Model ein gutes Ergebniss mit dem einfachen CNN geliefert."
   ]
  },
  {
   "cell_type": "code",
   "execution_count": 29,
   "metadata": {},
   "outputs": [
    {
     "data": {
      "image/png": "[encoded data removed]",
      "text/plain": [
       "<Figure size 432x288 with 1 Axes>"
      ]
     },
     "metadata": {
      "needs_background": "light"
     },
     "output_type": "display_data"
    },
    {
     "data": {
      "text/plain": [
       "<Figure size 432x288 with 0 Axes>"
      ]
     },
     "metadata": {},
     "output_type": "display_data"
    }
   ],
   "source": [
    "# praezision\n",
    "acc = history.history[\"accuracy\"]\n",
    "val_acc = history.history[\"val_accuracy\"]\n",
    "# loss (verlust/kosten) funktion\n",
    "loss = history.history[\"loss\"]\n",
    "val_loss = history.history[\"val_loss\"]\n",
    "\n",
    "# plotten\n",
    "epochs = range(len(acc))\n",
    "plt.plot(epochs, acc, \"darkgreen\", label=\"Training accuracy\")\n",
    "plt.plot(epochs, val_acc, \"darkblue\", label=\"Validation accuracy\")\n",
    "plt.plot(epochs, loss, \"lightgreen\", label=\"Training loss\")\n",
    "plt.plot(epochs, val_loss, \"lightblue\", label=\"Validation loss\")\n",
    "plt.title(\"Training and validation accuracy\")\n",
    "plt.xlabel(\"Epochs\")\n",
    "plt.ylabel(\"Precent/100\")\n",
    "plt.legend(loc=0)\n",
    "plt.figure()\n",
    "plt.show()"
   ]
  },
  {
   "cell_type": "markdown",
   "metadata": {},
   "source": [
    "In dem oberen Abbild wird es leichter zu sehen wie sich die Trainingsdaten und die Validierungsdaten abschneiden. Das Model verbessert sich, jedoch ist es auch ersichtlich das von epoche zu epoche sprunge existieren."
   ]
  },
  {
   "cell_type": "markdown",
   "metadata": {},
   "source": [
    "# (1. Rücksprung von 5. Evaluation) 4. Modelling"
   ]
  },
  {
   "cell_type": "markdown",
   "metadata": {},
   "source": [
    "Wie entfernen die zweite Feature Extraktion und fügen ein Dropout Schicht hinzu.\n",
    "\n",
    "++ Dropout mit 0.2 Rate, damit Overfittin verhindert werden kann\n",
    "\n",
    "-- Conv2D- und MaxPooling2D Layer, welches die Merkmale extrahiert. Somit haben wir ein einzigen Feature Extraktion.\n",
    "\n",
    "++ Da wir die Feature Extraction Layer veringert haben wollen wir mit dem Fully-Connected Layer mehr aus den Merkmalen lernen, dazu fügen wir zwei Layer hinzu die, die Größe von 512^2 und 256^2 haben. Durch diese Layer kann das Model aus den Extrahierten Merkmalen, die zugehörige Klassen herausfinden bzw. lernen."
   ]
  },
  {
   "cell_type": "code",
   "execution_count": 30,
   "metadata": {},
   "outputs": [
    {
     "name": "stdout",
     "output_type": "stream",
     "text": [
      "Model: \"sequential_1\"\n",
      "_________________________________________________________________\n",
      " Layer (type)                Output Shape              Param #   \n",
      "=================================================================\n",
      " conv2d_2 (Conv2D)           (None, 28, 28, 32)        320       \n",
      "                                                                 \n",
      " max_pooling2d_2 (MaxPooling  (None, 14, 14, 32)       0         \n",
      " 2D)                                                             \n",
      "                                                                 \n",
      " dropout (Dropout)           (None, 14, 14, 32)        0         \n",
      "                                                                 \n",
      " flatten_1 (Flatten)         (None, 6272)              0         \n",
      "                                                                 \n",
      " dense_2 (Dense)             (None, 59)                370107    \n",
      "                                                                 \n",
      " dense_3 (Dense)             (None, 28)                1680      \n",
      "                                                                 \n",
      " dense_4 (Dense)             (None, 10)                290       \n",
      "                                                                 \n",
      "=================================================================\n",
      "Total params: 372,397\n",
      "Trainable params: 372,397\n",
      "Non-trainable params: 0\n",
      "_________________________________________________________________\n"
     ]
    }
   ],
   "source": [
    "# Das modell initalizieren\n",
    "model_2 = Sequential()\n",
    "#Modellierungsstep 1:\n",
    "# fuegen die 1. Feature-Extraktor mit input 28x28 dazu\n",
    "model_2.add(Conv2D(filters=32,kernel_size=3, activation='relu', padding='same', input_shape=(28, 28,1))) #(Feature-Extraktor)\n",
    "# fuegen die Pooling Layer dazu\n",
    "model_2.add(MaxPooling2D(pool_size=(2, 2))) #(Feature-Extraktor)\n",
    "model_2.add(Dropout(0.15, input_shape=(28,28)))\n",
    "# flatten=Faltung (fasst die mehrdimensionale Matrix in eine liste zusammen) (noetig für kompatibilibität)\n",
    "model_2.add(Flatten())\n",
    "# und die fully-connected layer\n",
    "model_2.add(Dense(units=59, activation='relu'))\n",
    "model_2.add(Dense(units=28, activation='relu'))\n",
    "model_2.add(Dense(units=10, activation='softmax'))\n",
    "# schließ das modell\n",
    "model_2.summary()\n",
    "# model compilen \n",
    "model_2.compile(\n",
    "    optimizer=tf.keras.optimizers.Adam(), \n",
    "    # setzen die loss function = Categorical crossentropy\n",
    "    loss= tf.keras.losses.categorical_crossentropy, \n",
    "    # setzten die metric präzision\n",
    "    metrics=['accuracy']\n",
    ")"
   ]
  },
  {
   "cell_type": "code",
   "execution_count": 31,
   "metadata": {},
   "outputs": [
    {
     "name": "stdout",
     "output_type": "stream",
     "text": [
      "Epoch 1/10\n",
      "916/916 [==============================] - 13s 14ms/step - loss: 0.4560 - accuracy: 0.8414 - val_loss: 0.3832 - val_accuracy: 0.8508\n",
      "Epoch 2/10\n",
      "916/916 [==============================] - 12s 13ms/step - loss: 0.3097 - accuracy: 0.8896 - val_loss: 0.3189 - val_accuracy: 0.8780\n",
      "Epoch 3/10\n",
      "916/916 [==============================] - 12s 13ms/step - loss: 0.2671 - accuracy: 0.9037 - val_loss: 0.2938 - val_accuracy: 0.9000\n",
      "Epoch 4/10\n",
      "916/916 [==============================] - 12s 13ms/step - loss: 0.2391 - accuracy: 0.9122 - val_loss: 0.2700 - val_accuracy: 0.8983\n",
      "Epoch 5/10\n",
      "916/916 [==============================] - 12s 14ms/step - loss: 0.2207 - accuracy: 0.9189 - val_loss: 0.2830 - val_accuracy: 0.9102\n",
      "Epoch 6/10\n",
      "916/916 [==============================] - 12s 14ms/step - loss: 0.2022 - accuracy: 0.9256 - val_loss: 0.2752 - val_accuracy: 0.9068\n",
      "Epoch 7/10\n",
      "916/916 [==============================] - 12s 13ms/step - loss: 0.1830 - accuracy: 0.9324 - val_loss: 0.2557 - val_accuracy: 0.9169\n",
      "Epoch 8/10\n",
      "916/916 [==============================] - 12s 13ms/step - loss: 0.1695 - accuracy: 0.9370 - val_loss: 0.2759 - val_accuracy: 0.9119\n",
      "Epoch 9/10\n",
      "916/916 [==============================] - 12s 13ms/step - loss: 0.1612 - accuracy: 0.9406 - val_loss: 0.2775 - val_accuracy: 0.9153\n",
      "Epoch 10/10\n",
      "916/916 [==============================] - 12s 13ms/step - loss: 0.1453 - accuracy: 0.9456 - val_loss: 0.2820 - val_accuracy: 0.9119\n"
     ]
    }
   ],
   "source": [
    "# Epoche anzahl definieren 10\n",
    "NUM_EPOCHS = 10\n",
    "# batch größe definieren \n",
    "BATCH_SIZE = 59\n",
    "\n",
    "# Trainingsphase starten\n",
    "history = model_2.fit(\n",
    "    # trainingsdaten attribute\n",
    "    x_train,\n",
    "    # trainingsdaten zielvariabel\n",
    "    y_train,\n",
    "    # batch size\n",
    "    batch_size=BATCH_SIZE,\n",
    "    # epochen anzahl\n",
    "    epochs=NUM_EPOCHS,\n",
    "    # validations daten\n",
    "    validation_data=(x_val, y_val), \n",
    "    # validationsschritte\n",
    "    validation_steps=10,\n",
    ")"
   ]
  },
  {
   "cell_type": "code",
   "execution_count": 32,
   "metadata": {},
   "outputs": [
    {
     "data": {
      "image/png": "[encoded data removed]",
      "text/plain": [
       "<Figure size 432x288 with 1 Axes>"
      ]
     },
     "metadata": {
      "needs_background": "light"
     },
     "output_type": "display_data"
    },
    {
     "data": {
      "text/plain": [
       "<Figure size 432x288 with 0 Axes>"
      ]
     },
     "metadata": {},
     "output_type": "display_data"
    }
   ],
   "source": [
    "# praezision\n",
    "acc = history.history[\"accuracy\"]\n",
    "val_acc = history.history[\"val_accuracy\"]\n",
    "# loss (verlust/kosten) funktion\n",
    "loss = history.history[\"loss\"]\n",
    "val_loss = history.history[\"val_loss\"]\n",
    "\n",
    "# plotten\n",
    "epochs = range(len(acc))\n",
    "plt.plot(epochs, acc, \"darkgreen\", label=\"Training accuracy\")\n",
    "plt.plot(epochs, val_acc, \"darkblue\", label=\"Validation accuracy\")\n",
    "plt.plot(epochs, loss, \"lightgreen\", label=\"Training loss\")\n",
    "plt.plot(epochs, val_loss, \"lightblue\", label=\"Validation loss\")\n",
    "plt.title(\"Training and validation accuracy\")\n",
    "plt.xlabel(\"Epochs\")\n",
    "plt.ylabel(\"Precent/100\")\n",
    "plt.legend(loc=0)\n",
    "plt.figure()\n",
    "plt.show()"
   ]
  },
  {
   "cell_type": "code",
   "execution_count": 39,
   "metadata": {},
   "outputs": [
    {
     "name": "stdout",
     "output_type": "stream",
     "text": [
      "Model: \"sequential_3\"\n",
      "_________________________________________________________________\n",
      " Layer (type)                Output Shape              Param #   \n",
      "=================================================================\n",
      " conv2d_7 (Conv2D)           (None, 28, 28, 32)        320       \n",
      "                                                                 \n",
      " max_pooling2d_7 (MaxPooling  (None, 14, 14, 32)       0         \n",
      " 2D)                                                             \n",
      "                                                                 \n",
      " conv2d_8 (Conv2D)           (None, 14, 14, 32)        9248      \n",
      "                                                                 \n",
      " max_pooling2d_8 (MaxPooling  (None, 7, 7, 32)         0         \n",
      " 2D)                                                             \n",
      "                                                                 \n",
      " conv2d_9 (Conv2D)           (None, 7, 7, 32)          9248      \n",
      "                                                                 \n",
      " max_pooling2d_9 (MaxPooling  (None, 7, 7, 32)         0         \n",
      " 2D)                                                             \n",
      "                                                                 \n",
      " conv2d_10 (Conv2D)          (None, 7, 7, 32)          9248      \n",
      "                                                                 \n",
      " max_pooling2d_10 (MaxPoolin  (None, 7, 7, 32)         0         \n",
      " g2D)                                                            \n",
      "                                                                 \n",
      " dropout_2 (Dropout)         (None, 7, 7, 32)          0         \n",
      "                                                                 \n",
      " flatten_3 (Flatten)         (None, 1568)              0         \n",
      "                                                                 \n",
      " dense_9 (Dense)             (None, 59)                92571     \n",
      "                                                                 \n",
      " dense_10 (Dense)            (None, 28)                1680      \n",
      "                                                                 \n",
      " dense_11 (Dense)            (None, 10)                290       \n",
      "                                                                 \n",
      "=================================================================\n",
      "Total params: 122,605\n",
      "Trainable params: 122,605\n",
      "Non-trainable params: 0\n",
      "_________________________________________________________________\n"
     ]
    }
   ],
   "source": [
    "#3. Model\n",
    "# Das modell initalizieren\n",
    "model_3 = {}\n",
    "model_3 = Sequential()\n",
    "#Modellierungsstep 1:\n",
    "# fuegen die 1. Feature-Extraktor mit input 28x28 dazu\n",
    "model_3.add(Conv2D(filters=32,kernel_size=3, activation='relu', padding='same', input_shape=(28, 28,1))) #(Feature-Extraktor)\n",
    "# fuegen die Pooling Layer dazu\n",
    "model_3.add(MaxPooling2D(pool_size=(2, 2))) #(Feature-Extraktor)\n",
    "# fuegen die 2. Feature-Extraktor mit input 28x28 dazu\n",
    "model_3.add(Conv2D(filters=32,kernel_size=3, activation='relu', padding='same', input_shape=(14, 14,1))) #(Feature-Extraktor)\n",
    "# fuegen die Pooling Layer dazu\n",
    "model_3.add(MaxPooling2D(pool_size=(2, 2))) #(Feature-Extraktor)\n",
    "# fuegen die 2. Feature-Extraktor mit input 28x28 dazu\n",
    "model_3.add(Conv2D(filters=32,kernel_size=3, activation='relu', padding='same', input_shape=(7, 7,1))) #(Feature-Extraktor)\n",
    "# fuegen die Pooling Layer dazu\n",
    "model_3.add(MaxPooling2D(pool_size=(1, 1))) #(Feature-Extraktor)\n",
    "# fuegen die 3. Feature-Extraktor mit input 28x28 dazu\n",
    "model_3.add(Conv2D(filters=32,kernel_size=3, activation='relu', padding='same', input_shape=(3, 3,1))) #(Feature-Extraktor)\n",
    "# fuegen die Pooling Layer dazu\n",
    "model_3.add(MaxPooling2D(pool_size=(1, 1))) #(Feature-Extraktor)\n",
    "# dropout mit rate damit overfitting verhindert werden kann\n",
    "model_3.add(Dropout(0.15, input_shape=(3,3)))\n",
    "# flatten=Faltung (fasst die mehrdimensionale Matrix in eine liste zusammen) (noetig für kompatibilibität)\n",
    "model_3.add(Flatten())\n",
    "# und die fully-connected layer\n",
    "model_3.add(Dense(units=59, activation='relu'))\n",
    "model_3.add(Dense(units=28, activation='relu'))\n",
    "model_3.add(Dense(units=10, activation='softmax'))\n",
    "# schließ das modell\n",
    "model_3.summary()\n",
    "# model compilen \n",
    "model_3.compile(\n",
    "    optimizer=tf.keras.optimizers.Adam(), \n",
    "    # setzen die loss function = Categorical crossentropy\n",
    "    loss= tf.keras.losses.categorical_crossentropy, \n",
    "    # setzten die metric präzision\n",
    "    metrics=['accuracy']\n",
    ")"
   ]
  },
  {
   "cell_type": "code",
   "execution_count": 40,
   "metadata": {},
   "outputs": [
    {
     "name": "stdout",
     "output_type": "stream",
     "text": [
      "Epoch 1/10\n",
      "916/916 [==============================] - 24s 26ms/step - loss: 0.5348 - accuracy: 0.8048 - val_loss: 0.3618 - val_accuracy: 0.8610\n",
      "Epoch 2/10\n",
      "916/916 [==============================] - 23s 25ms/step - loss: 0.3245 - accuracy: 0.8815 - val_loss: 0.3339 - val_accuracy: 0.8881\n",
      "Epoch 3/10\n",
      "916/916 [==============================] - 22s 25ms/step - loss: 0.2799 - accuracy: 0.8967 - val_loss: 0.2875 - val_accuracy: 0.8915\n",
      "Epoch 4/10\n",
      "916/916 [==============================] - 22s 24ms/step - loss: 0.2524 - accuracy: 0.9074 - val_loss: 0.2669 - val_accuracy: 0.9051\n",
      "Epoch 5/10\n",
      "916/916 [==============================] - 22s 24ms/step - loss: 0.2324 - accuracy: 0.9143 - val_loss: 0.2448 - val_accuracy: 0.9068\n",
      "Epoch 6/10\n",
      "916/916 [==============================] - 22s 24ms/step - loss: 0.2145 - accuracy: 0.9205 - val_loss: 0.2509 - val_accuracy: 0.9119\n",
      "Epoch 7/10\n",
      "916/916 [==============================] - 22s 24ms/step - loss: 0.2000 - accuracy: 0.9254 - val_loss: 0.2599 - val_accuracy: 0.9068\n",
      "Epoch 8/10\n",
      "916/916 [==============================] - 22s 24ms/step - loss: 0.1872 - accuracy: 0.9308 - val_loss: 0.2406 - val_accuracy: 0.9017\n",
      "Epoch 9/10\n",
      "916/916 [==============================] - 22s 24ms/step - loss: 0.1742 - accuracy: 0.9347 - val_loss: 0.2477 - val_accuracy: 0.8983\n",
      "Epoch 10/10\n",
      "916/916 [==============================] - 22s 24ms/step - loss: 0.1624 - accuracy: 0.9394 - val_loss: 0.2646 - val_accuracy: 0.9068\n"
     ]
    }
   ],
   "source": [
    "# Epoche anzahl definieren 10\n",
    "NUM_EPOCHS = 10\n",
    "# batch größe definieren \n",
    "BATCH_SIZE = 59\n",
    "\n",
    "# Trainingsphase starten\n",
    "history = model_3.fit(\n",
    "    # trainingsdaten attribute\n",
    "    x_train,\n",
    "    # trainingsdaten zielvariabel\n",
    "    y_train,\n",
    "    # batch size\n",
    "    batch_size=BATCH_SIZE,\n",
    "    # epochen anzahl\n",
    "    epochs=NUM_EPOCHS,\n",
    "    # validations daten\n",
    "    validation_data=(x_val, y_val), \n",
    "    # validationsschritte\n",
    "    validation_steps=10,\n",
    ")"
   ]
  },
  {
   "cell_type": "code",
   "execution_count": 41,
   "metadata": {},
   "outputs": [
    {
     "data": {
      "image/png": "[encoded data removed]",
      "text/plain": [
       "<Figure size 432x288 with 1 Axes>"
      ]
     },
     "metadata": {
      "needs_background": "light"
     },
     "output_type": "display_data"
    },
    {
     "data": {
      "text/plain": [
       "<Figure size 432x288 with 0 Axes>"
      ]
     },
     "metadata": {},
     "output_type": "display_data"
    }
   ],
   "source": [
    "# praezision\n",
    "acc = history.history[\"accuracy\"]\n",
    "val_acc = history.history[\"val_accuracy\"]\n",
    "# loss (verlust/kosten) funktion\n",
    "loss = history.history[\"loss\"]\n",
    "val_loss = history.history[\"val_loss\"]\n",
    "\n",
    "# plotten\n",
    "epochs = range(len(acc))\n",
    "plt.plot(epochs, acc, \"darkgreen\", label=\"Training accuracy\")\n",
    "plt.plot(epochs, val_acc, \"darkblue\", label=\"Validation accuracy\")\n",
    "plt.plot(epochs, loss, \"lightgreen\", label=\"Training loss\")\n",
    "plt.plot(epochs, val_loss, \"lightblue\", label=\"Validation loss\")\n",
    "plt.title(\"Training and validation accuracy\")\n",
    "plt.xlabel(\"Epochs\")\n",
    "plt.ylabel(\"Precent/100\")\n",
    "plt.legend(loc=0)\n",
    "plt.figure()\n",
    "plt.show()"
   ]
  },
  {
   "cell_type": "markdown",
   "metadata": {},
   "source": [
    "# 5. Evaluation"
   ]
  },
  {
   "cell_type": "markdown",
   "metadata": {},
   "source": [
    "## 5.1 erstes Modell"
   ]
  },
  {
   "cell_type": "markdown",
   "metadata": {},
   "source": [
    "Das Model wurde bisher trainiert und verbessert. Somit sollte das Model soweit sein, um mit den Testdaten einen Päzision von 96% zu liefern."
   ]
  },
  {
   "cell_type": "code",
   "execution_count": 33,
   "metadata": {},
   "outputs": [
    {
     "name": "stdout",
     "output_type": "stream",
     "text": [
      "loss Durchschnitt:  0.2282353937625885\n",
      "Praezision Durchschnitt:  0.9211000204086304\n",
      "              precision    recall  f1-score   support\n",
      "\n",
      "         Top       0.87      0.87      0.87      1000\n",
      "     Trouser       0.99      0.99      0.99      1000\n",
      "    Pullover       0.85      0.90      0.88      1000\n",
      "       Dress       0.94      0.94      0.94      1000\n",
      "        Coat       0.93      0.82      0.87      1000\n",
      "      Sandal       0.99      0.98      0.98      1000\n",
      "       Shirt       0.81      0.77      0.79      1000\n",
      "     Sneaker       0.98      0.93      0.95      1000\n",
      "         Bag       0.99      0.99      0.99      1000\n",
      "  Ankle boot       0.93      0.99      0.96      1000\n",
      "\n",
      "   micro avg       0.93      0.92      0.92     10000\n",
      "   macro avg       0.93      0.92      0.92     10000\n",
      "weighted avg       0.93      0.92      0.92     10000\n",
      " samples avg       0.93      0.92      0.92     10000\n",
      "\n"
     ]
    }
   ],
   "source": [
    "# Das Model testen (return (evaluationsdaten)) \n",
    "test_loss, test_accuracy = model_1.evaluate(x_test, y_test, verbose=0)\n",
    "# alle Klassen trennen und die ergebnisse zu jeder Klasse anzeigen lassen\n",
    "predicted_classes = (model_1.predict(x_test) > 0.5).astype(\"int32\")\n",
    "print(\"loss Durchschnitt: \" , test_loss)\n",
    "print(\"Praezision Durchschnitt: \", test_accuracy)\n",
    "print(classification_report(y_test, predicted_classes, target_names=klassen_name,  zero_division=1))"
   ]
  },
  {
   "cell_type": "markdown",
   "metadata": {},
   "source": [
    "Zu letzt betrachten wir die Ergebisse der einzelnen Klassen. Das Model liefert schlechte ergebnisse bei der Prognose von Top 87%, Coat 89%, Pullover 89% und Shirt 81%, aber gute ergebnisse bei allen anderen Ergebnissen (94% - 99%). Versuchen wir die Klassen die schlecht abschneiden zu verbessern indem wieder zum schritt 4 zurückgehen."
   ]
  },
  {
   "cell_type": "markdown",
   "metadata": {},
   "source": [
    "## 5.2 zweites Modell"
   ]
  },
  {
   "cell_type": "code",
   "execution_count": 34,
   "metadata": {},
   "outputs": [
    {
     "name": "stdout",
     "output_type": "stream",
     "text": [
      "loss:  0.24627384543418884\n",
      "Praezision:  0.9176999926567078\n",
      "              precision    recall  f1-score   support\n",
      "\n",
      "         Top       0.86      0.87      0.87      1000\n",
      "     Trouser       0.97      0.99      0.98      1000\n",
      "    Pullover       0.89      0.86      0.87      1000\n",
      "       Dress       0.94      0.93      0.93      1000\n",
      "        Coat       0.91      0.86      0.88      1000\n",
      "      Sandal       1.00      0.96      0.98      1000\n",
      "       Shirt       0.79      0.74      0.76      1000\n",
      "     Sneaker       0.93      0.98      0.96      1000\n",
      "         Bag       0.98      0.98      0.98      1000\n",
      "  Ankle boot       0.98      0.95      0.96      1000\n",
      "\n",
      "   micro avg       0.93      0.91      0.92     10000\n",
      "   macro avg       0.92      0.91      0.92     10000\n",
      "weighted avg       0.92      0.91      0.92     10000\n",
      " samples avg       0.93      0.91      0.91     10000\n",
      "\n"
     ]
    }
   ],
   "source": [
    "# Das Model testen (return (evaluationsdaten)) \n",
    "test_loss, test_accuracy = model_2.evaluate(x_test, y_test, verbose=0)\n",
    "print(\"loss: \" , test_loss)\n",
    "print(\"Praezision: \", test_accuracy)\n",
    "# alle Klassen trennen und die ergebnisse zu jeder Klasse anzeigen lassen\n",
    "predicted_classes = (model_2.predict(x_test) > 0.5).astype(\"int32\")\n",
    "print(classification_report(y_test, predicted_classes, target_names=klassen_name,  zero_division=1))"
   ]
  },
  {
   "cell_type": "markdown",
   "metadata": {},
   "source": [
    "## 5.3 drittes Modell"
   ]
  },
  {
   "cell_type": "code",
   "execution_count": 42,
   "metadata": {},
   "outputs": [
    {
     "name": "stdout",
     "output_type": "stream",
     "text": [
      "loss:  0.2470914125442505\n",
      "Praezision:  0.9078999757766724\n",
      "              precision    recall  f1-score   support\n",
      "\n",
      "         Top       0.78      0.93      0.85      1000\n",
      "     Trouser       1.00      0.99      0.99      1000\n",
      "    Pullover       0.82      0.91      0.86      1000\n",
      "       Dress       0.92      0.95      0.93      1000\n",
      "        Coat       0.94      0.74      0.83      1000\n",
      "      Sandal       0.99      0.98      0.98      1000\n",
      "       Shirt       0.87      0.60      0.71      1000\n",
      "     Sneaker       0.94      0.98      0.96      1000\n",
      "         Bag       0.99      0.97      0.98      1000\n",
      "  Ankle boot       0.98      0.95      0.96      1000\n",
      "\n",
      "   micro avg       0.92      0.90      0.91     10000\n",
      "   macro avg       0.92      0.90      0.91     10000\n",
      "weighted avg       0.92      0.90      0.91     10000\n",
      " samples avg       0.92      0.90      0.90     10000\n",
      "\n"
     ]
    }
   ],
   "source": [
    "# Das Model testen (return (evaluationsdaten)) \n",
    "test_loss, test_accuracy = model_3.evaluate(x_test, y_test, verbose=0)\n",
    "print(\"loss: \" , test_loss)\n",
    "print(\"Praezision: \", test_accuracy)\n",
    "# alle Klassen trennen und die ergsbnisse zu jeder Klasse anzeigen lassen\n",
    "predicted_classes = (model_3.predict(x_test) > 0.5).astype(\"int32\")\n",
    "print(classification_report(y_test, predicted_classes, target_names=klassen_name,  zero_division=1))"
   ]
  }
 ],
 "metadata": {
  "interpreter": {
   "hash": "018539e66c20610bca558b3ac54e1cc259c56ef78604fa70aa1a32d6fcd49f20"
  },
  "kernelspec": {
   "display_name": "Python 3.9.9 64-bit",
   "language": "python",
   "name": "python3"
  },
  "language_info": {
   "codemirror_mode": {
    "name": "ipython",
    "version": 3
   },
   "file_extension": ".py",
   "mimetype": "text/x-python",
   "name": "python",
   "nbconvert_exporter": "python",
   "pygments_lexer": "ipython3",
   "version": "3.9.9"
  },
  "orig_nbformat": 4
 },
 "nbformat": 4,
 "nbformat_minor": 2
}
